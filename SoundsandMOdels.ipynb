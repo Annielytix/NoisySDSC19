{
  "nbformat": 4,
  "nbformat_minor": 0,
  "metadata": {
    "colab": {
      "name": "NSynth_Colab.ipynb",
      "version": "0.3.2",
      "views": {},
      "default_view": {},
      "provenance": [
        {
          "file_id": "/piper/depot/google3/learning/brain/research/magenta/models/nsynth/nsynth.ipynb",
          "timestamp": 1521737809688
        },
        {
          "file_id": "1v6KaLXVEtZATEpDuWePF2b_U8tJxDcO3",
          "timestamp": 1521070460872
        }
      ],
      "collapsed_sections": []
    },
    "kernelspec": {
      "display_name": "Python 2",
      "language": "python",
      "name": "python2"
    },
    "accelerator": "GPU"
  },
  "cells": [
    {
      "metadata": {
        "id": "zRmlJYze_29V",
        "colab_type": "text"
      },
      "cell_type": "markdown",
      "source": [
        "Copyright 2017 Google LLC.\n",
        "\n",
        "Licensed under the Apache License, Version 2.0 (the \"License\");\n",
        "you may not use this file except in compliance with the License.\n",
        "You may obtain a copy of the License at\n",
        "\n",
        "https://www.apache.org/licenses/LICENSE-2.0\n",
        "\n",
        "Unless required by applicable law or agreed to in writing, software\n",
        "distributed under the License is distributed on an \"AS IS\" BASIS,\n",
        "WITHOUT WARRANTIES OR CONDITIONS OF ANY KIND, either express or implied.\n",
        "See the License for the specific language governing permissions and\n",
        "limitations under the License.\n",
        "\n"
      ]
    },
    {
      "metadata": {
        "id": "2Axg7pBLtt3V",
        "colab_type": "text"
      },
      "cell_type": "markdown",
      "source": [
        "# E-Z NSynth\n",
        "\n",
        "__Neural Audio Synthesis of Musical Notes with WaveNet Autoencoders, ICML 2017__\n",
        "\n",
        "Jesse Engel, Cinjon Resnick, Adam Roberts, Sander Dieleman, Douglas Eck, Karen Simonyan, Mohammad Norouzi\n",
        "\n",
        "## Instructions\n",
        "* This colab notebook has everything you need to upload your own sounds and use NSynth models to reconstruct and interpolate between them.\n",
        "* You can use these sounds as samples in your own music a la [Andrew Huang Rocking Out with NSynth](https://www.youtube.com/watch?v=AaALLWQmCdI).\n",
        "* Make sure to use a kernel with a GPU attached by selecting: **Edit >> Notebook Settings >> Hardware Accelerator >> GPU** from the dropdown menu.\n",
        "* You can run this notebook without writing / seeing a line of code. Just click the triangular **\"Play\"** button on the left of each cell.\n",
        "* Start at the top and work your way to the bottom, clicking **\"Play\"** for each cell.\n",
        "* If you want to see the code, you can reveal with the menu on the upper right hand side of each cell.\n",
        "\n",
        "\n",
        "### Other Resources:\n",
        "* [Nat and Friends \"Behind the scenes\"](https://www.youtube.com/watch?v=BOoSy-Pg8is)\n",
        "* [Original Blog Post](https://magenta.tensorflow.org/nsynth)\n",
        "* [NSynth Instrument](https://magenta.tensorflow.org/nsynth-instrument)\n",
        "* [Jupyter Notebook Tutorial](https://magenta.tensorflow.org/nsynth-fastgen)\n",
        "* [ArXiv Paper](https://arxiv.org/abs/1704.01279)\n",
        "* [Github Code](https://github.com/tensorflow/magenta/tree/master/magenta/models/nsynth)\n",
        "\n"
      ]
    },
    {
      "metadata": {
        "id": "e-2av9upRi0z",
        "colab_type": "text"
      },
      "cell_type": "markdown",
      "source": [
        "# Setup Environment\n",
        "\n",
        "We need to start downloading and choosing a pretrained NSynth model to use. Transfers several GBs, may take a minute or two. Just click Play..."
      ]
    },
    {
      "metadata": {
        "id": "ZA7tNz2zAWvn",
        "colab_type": "code",
        "colab": {
          "autoexec": {
            "startup": false,
            "wait_interval": 0
          },
          "base_uri": "https://localhost:8080/",
          "height": 326
        },
        "cellView": "form",
        "outputId": "92081457-1933-4610-8f41-3629f6fbba3e",
        "executionInfo": {
          "status": "ok",
          "timestamp": 1529064143037,
          "user_tz": 240,
          "elapsed": 134964,
          "user": {
            "displayName": "",
            "photoUrl": "",
            "userId": ""
          }
        }
      },
      "cell_type": "code",
      "source": [
        "#@title Setup Environment\n",
        "#@test {\"output\": \"ignore\"}\n",
        "\n",
        "\n",
        "# Install magenta\n",
        "print('Installing Magenta...\\n')\n",
        "!pip install -q magenta\n",
        "print('Installing ffmpeg...\\n')\n",
        "!echo \"Yes\" | apt-get install ffmpeg > /dev/null\n",
        "\n",
        "\n",
        "print('Downloading Pretrained Models...\\n')\n",
        "# Copy checkpoints from google cloud\n",
        "# Copying 1GB, takes a minute\n",
        "print('Getting Instruments Model...\\n')\n",
        "!gsutil -q -m cp -R gs://download.magenta.tensorflow.org/models/nsynth/wavenet-ckpt.tar /content/\n",
        "print('Getting Voices Model...\\n')\n",
        "!gsutil -q -m cp -R gs://download.magenta.tensorflow.org/models/nsynth/wavenet-voice-ckpt.tar.gz /content/\n",
        "!cd /content/\n",
        "!tar -xvf wavenet-ckpt.tar > /dev/null\n",
        "!tar -xvf wavenet-voice-ckpt.tar.gz > /dev/null\n",
        "\n",
        "\n",
        "print('Importing Modules...\\n')\n",
        "# Load modules and helper functions\n",
        "import os\n",
        "import numpy as np\n",
        "import matplotlib.pyplot as plt\n",
        "from IPython.display import Audio\n",
        "%matplotlib inline\n",
        "\n",
        "from google.colab import files\n",
        "from magenta.models.nsynth import utils\n",
        "from magenta.models.nsynth.wavenet import fastgen\n",
        "from magenta.music.notebook_utils import colab_play as play\n",
        "\n",
        "def upload(sample_length, sr):\n",
        "  '''Upload a .wav file.'''\n",
        "  filemap = files.upload()\n",
        "  file_list, audio_list = [], []\n",
        "  for key, value in filemap.iteritems():\n",
        "    fname = os.path.join('/content/', key)\n",
        "    with open(fname, 'w') as f:\n",
        "      f.write(value)\n",
        "    audio = utils.load_audio(fname, sample_length=sample_length, sr=sr)\n",
        "    file_list.append(fname)\n",
        "    audio_list.append(audio)\n",
        "  return file_list, audio_list\n",
        "\n",
        "download = files.download\n",
        "\n",
        "get_name = lambda f: os.path.splitext(os.path.basename(f))[0]\n",
        "\n",
        "print('Sucess!! Environment is now setup.')\n"
      ],
      "execution_count": 4,
      "outputs": [
        {
          "output_type": "stream",
          "text": [
            "Installing Magenta...\n",
            "\n",
            "Installing ffmpeg...\n",
            "\n",
            "Extracting templates from packages: 100%\n",
            "Downloading Pretrained Models...\n",
            "\n",
            "Getting Instruments Model...\n",
            "\n",
            "Getting Voices Model...\n",
            "\n",
            "Importing Modules...\n",
            "\n",
            "WARNING:tensorflow:From /usr/local/lib/python2.7/dist-packages/magenta/models/nsynth/wavenet/masked.py:116: __init__ (from tensorflow.python.ops.init_ops) is deprecated and will be removed in a future version.\n",
            "Instructions for updating:\n",
            "Use tf.initializers.variance_scaling instead with distribution=uniform to get equivalent behavior.\n",
            "Sucess!! Environment is now setup.\n"
          ],
          "name": "stdout"
        }
      ]
    },
    {
      "metadata": {
        "id": "QyAT8mQhX1Gq",
        "colab_type": "text"
      },
      "cell_type": "markdown",
      "source": [
        "We have two pretrained models to choose from. One trained on the individual instrument notes of the [NSynth Dataset](https://magenta.tensorflow.org/datasets/nsynth) (\"Instruments\"), and another trained on a variety of voices in the wild for an art project (\"Voices\", mixture of singing and speaking). The Instruments model was trained on a larger quantity of data, so tends to generalize a bit better. Neither reconstructs audio perfectly, but both add their own unique character to sounds. Explore them both and see what you like!"
      ]
    },
    {
      "metadata": {
        "id": "gSXXL26bLDCy",
        "colab_type": "code",
        "colab": {
          "autoexec": {
            "startup": false,
            "wait_interval": 0
          },
          "base_uri": "https://localhost:8080/",
          "height": 34
        },
        "cellView": "form",
        "outputId": "83c8b481-a91e-41c9-94a3-49569d5e7092",
        "executionInfo": {
          "status": "ok",
          "timestamp": 1529064143259,
          "user_tz": 240,
          "elapsed": 200,
          "user": {
            "displayName": "",
            "photoUrl": "",
            "userId": ""
          }
        }
      },
      "cell_type": "code",
      "source": [
        "#@title Choose a Model { vertical-output: true, run: \"auto\" }\n",
        "Model = \"Voices\" #@param [\"Instruments\", \"Voices\"] {type:\"string\"}\n",
        "ckpts = {'Instruments': '/content/wavenet-ckpt/model.ckpt-200000',\n",
        "         'Voices': '/content/wavenet-voice-ckpt/model.ckpt-200000'}\n",
        "\n",
        "ckpt_path = ckpts[Model]\n",
        "print('Using model pretrained on %s.' % Model)"
      ],
      "execution_count": 5,
      "outputs": [
        {
          "output_type": "stream",
          "text": [
            "Using model pretrained on Voices.\n"
          ],
          "name": "stdout"
        }
      ]
    },
    {
      "metadata": {
        "id": "LTAkswTOcgAp",
        "colab_type": "text"
      },
      "cell_type": "markdown",
      "source": [
        "# Load Sound Files\n",
        "\n",
        "Now it's time for you to load your own sound files for processing. You can use either `.wav` files or `.mp3` files, but in either case they will be converted to `.wav`. All files will be downsampled to 16kHz and cropped / silence padded to `Length` seconds as the input and output to the algorithm.\n",
        "\n",
        "Don't have sounds? You can downloaded free sounds from freesound.org For example:\n",
        "* https://freesound.org/people/MustardPlug/sounds/395058/\n",
        "* https://freesound.org/people/cms4f/sounds/159119/\n",
        "* https://freesound.org/people/juskiddink/sounds/60055/\n",
        "* https://freesound.org/people/Audeption/sounds/418526/\n",
        "* https://freesound.org/people/Jagadamba/sounds/255878/\n",
        "\n",
        "\n",
        "Keep in mind, with the cloud GPU synthesis takes around 4 minutes / 1 second of length."
      ]
    },
    {
      "metadata": {
        "id": "CnSCiX0kA2-5",
        "colab_type": "code",
        "colab": {
          "autoexec": {
            "startup": false,
            "wait_interval": 0
          },
          "base_uri": "https://localhost:8080/",
          "height": 17
        },
        "cellView": "form",
        "outputId": "c104366d-199c-4b52-e3c0-e613204b3e6f",
        "executionInfo": {
          "status": "ok",
          "timestamp": 1529064143532,
          "user_tz": 240,
          "elapsed": 220,
          "user": {
            "displayName": "",
            "photoUrl": "",
            "userId": ""
          }
        }
      },
      "cell_type": "code",
      "source": [
        "#@title Set Sound Length (in Seconds) { vertical-output: true, run: \"auto\" }\n",
        "Length = 2.0 #@param {type:\"number\"}\n",
        "SR = 16000\n",
        "SAMPLE_LENGTH = int(SR * Length)"
      ],
      "execution_count": 6,
      "outputs": []
    },
    {
      "metadata": {
        "id": "c9IufW4mtPAU",
        "colab_type": "text"
      },
      "cell_type": "markdown",
      "source": [
        "Put all your sound files into a single folder and maker sure to select all the files you want to reconstruct / interpolate between. **(Ctrl/Cmd/Shift Click)**"
      ]
    },
    {
      "metadata": {
        "id": "mPwQYyYgBkdp",
        "colab_type": "code",
        "colab": {
          "autoexec": {
            "startup": false,
            "wait_interval": 0
          },
          "resources": {
            "http://localhost:8080/nbextensions/google.colab/files.js": {
              "data": "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",
              "ok": true,
              "headers": [
                [
                  "content-type",
                  "application/javascript"
                ]
              ],
              "status": 200,
              "status_text": ""
            }
          },
          "base_uri": "https://localhost:8080/",
          "height": 103
        },
        "cellView": "form",
        "outputId": "89b5f112-d237-4f68-de23-a4e5d8de89fe",
        "executionInfo": {
          "status": "ok",
          "timestamp": 1529064297996,
          "user_tz": 240,
          "elapsed": 33188,
          "user": {
            "displayName": "",
            "photoUrl": "",
            "userId": ""
          }
        }
      },
      "cell_type": "code",
      "source": [
        "#@title Upload sound files (.wav, .mp3)\n",
        "\n",
        "try:\n",
        "  file_list, audio_list = upload(sample_length=SAMPLE_LENGTH, sr=SR)\n",
        "  names = [get_name(f) for f in file_list]\n",
        "  # Pad and peak normalize\n",
        "  for i in range(len(audio_list)):\n",
        "    audio_list[i] = audio_list[i] / np.abs(audio_list[i]).max()\n",
        "\n",
        "    if len(audio_list[i]) < SAMPLE_LENGTH:\n",
        "      padding = SAMPLE_LENGTH - len(audio_list[i])\n",
        "      audio_list[i] = np.pad(audio_list[i], (0, padding), 'constant')\n",
        "\n",
        "  audio_list = np.array(audio_list)\n",
        "except Exception as e:\n",
        "  print('Upload Cancelled')\n",
        "  print(e)"
      ],
      "execution_count": 10,
      "outputs": [
        {
          "output_type": "display_data",
          "data": {
            "text/plain": [
              "<IPython.core.display.HTML object>"
            ],
            "text/html": [
              "\n",
              "     <input type=\"file\" id=\"files-081825fd-cfad-452c-91f5-c75e246b9a40\" name=\"files[]\" multiple disabled />\n",
              "     <output id=\"result-081825fd-cfad-452c-91f5-c75e246b9a40\">\n",
              "      Upload widget is only available when the cell has been executed in the\n",
              "      current browser session. Please rerun this cell to enable.\n",
              "      </output>\n",
              "      <script src=\"/nbextensions/google.colab/files.js\"></script> "
            ]
          },
          "metadata": {
            "tags": []
          }
        },
        {
          "output_type": "stream",
          "text": [
            "Saving 00DB_Away.wav to 00DB_Away.wav\n",
            "Saving GCG_FX3.wav to GCG_FX3.wav\n"
          ],
          "name": "stdout"
        }
      ]
    },
    {
      "metadata": {
        "id": "bQKDlAdW_qKn",
        "colab_type": "text"
      },
      "cell_type": "markdown",
      "source": [
        "# Encode\n",
        "\n",
        "Next we need to encode the audio. This should be relatively fast on a GPU, we will also create interpolations (the midpoints between each encoding) from which to re-synthesize audio."
      ]
    },
    {
      "metadata": {
        "id": "SSr-7vuH_29l",
        "colab_type": "code",
        "colab": {
          "autoexec": {
            "startup": false,
            "wait_interval": 0
          },
          "base_uri": "https://localhost:8080/",
          "height": 68
        },
        "cellView": "form",
        "outputId": "f6f1080a-261b-4510-d121-3cd971afde82",
        "executionInfo": {
          "status": "ok",
          "timestamp": 1529064314804,
          "user_tz": 240,
          "elapsed": 9516,
          "user": {
            "displayName": "",
            "photoUrl": "",
            "userId": ""
          }
        }
      },
      "cell_type": "code",
      "source": [
        "#@title Generate Encodings\n",
        "audio = np.array(audio_list)\n",
        "z = fastgen.encode(audio, ckpt_path, SAMPLE_LENGTH)\n",
        "print('Encoded %d files' % z.shape[0])\n",
        "\n",
        "\n",
        "# Start with reconstructions\n",
        "z_list = [z_ for z_ in z]\n",
        "name_list = ['recon_' + name_ for name_ in names]\n",
        "\n",
        "# Add all the mean interpolations\n",
        "n = len(names)\n",
        "for i in range(n - 1):\n",
        "  for j in range(i + 1, n):\n",
        "    new_z = (z[i] + z[j]) / 2.0\n",
        "    new_name = 'interp_' + names[i] + '_X_'+ names[j]\n",
        "    z_list.append(new_z)\n",
        "    name_list.append(new_name)\n",
        "\n",
        "print(\"%d total: %d reconstructions and %d interpolations\" % (len(name_list), n, len(name_list) - n))"
      ],
      "execution_count": 11,
      "outputs": [
        {
          "output_type": "stream",
          "text": [
            "INFO:tensorflow:Restoring parameters from /content/wavenet-voice-ckpt/model.ckpt-200000\n",
            "Encoded 2 files\n",
            "3 total: 2 reconstructions and 1 interpolations\n"
          ],
          "name": "stdout"
        }
      ]
    },
    {
      "metadata": {
        "id": "hKR6CGUe_290",
        "colab_type": "text"
      },
      "cell_type": "markdown",
      "source": [
        "For fun, we can take a look at the encoding of our audio files. They are compressed representations of the audio but have some structure in their own right, (16 numbers, kind of like 16 channels of audio, so there are 16 different lines, colors are arbitrary). "
      ]
    },
    {
      "metadata": {
        "id": "7Cawft23_290",
        "colab_type": "code",
        "colab": {
          "autoexec": {
            "startup": false,
            "wait_interval": 0
          },
          "base_uri": "https://localhost:8080/",
          "height": 618
        },
        "cellView": "form",
        "outputId": "adbb0011-0eae-40d3-e76c-e9e8f8d7bccd",
        "executionInfo": {
          "status": "ok",
          "timestamp": 1529064323290,
          "user_tz": 240,
          "elapsed": 830,
          "user": {
            "displayName": "",
            "photoUrl": "",
            "userId": ""
          }
        }
      },
      "cell_type": "code",
      "source": [
        "#@title Visualize Audio and Encoding { vertical-output: true, run: \"auto\" }\n",
        "SoundFile = 0 #@param {type:\"slider\", min:0, max:10, step:1}\n",
        "file_number = SoundFile\n",
        "\n",
        "try:\n",
        "  print(names[file_number])\n",
        "  play(audio_list[file_number], sample_rate=SR)\n",
        "  # fig, axs = plt.subplots(2, 1, figsize=(12, 10))\n",
        "  plt.figure()\n",
        "  plt.plot(audio_list[file_number])\n",
        "  plt.title('Audio Signal')\n",
        "\n",
        "  plt.figure()\n",
        "  plt.plot(z_list[file_number])\n",
        "  plt.title('NSynth Encoding')\n",
        "except Exception as e:\n",
        "  print e"
      ],
      "execution_count": 12,
      "outputs": [
        {
          "output_type": "stream",
          "text": [
            "GCG_FX3\n"
          ],
          "name": "stdout"
        },
        {
          "output_type": "display_data",
          "data": {
            "text/plain": [
              "<IPython.core.display.HTML object>"
            ],
            "text/html": [
              "<div id=\"id_1\"> </div>"
            ]
          },
          "metadata": {
            "tags": []
          }
        },
        {
          "output_type": "display_data",
          "data": {
            "image/png": "[encoded data removed]",
            "text/plain": [
              "<matplotlib.figure.Figure at 0x7feb31586290>"
            ]
          },
          "metadata": {
            "tags": []
          }
        },
        {
          "output_type": "display_data",
          "data": {
            "image/png": "[encoded data removed]",
            "text/plain": [
              "<matplotlib.figure.Figure at 0x7feb2eaa7d10>"
            ]
          },
          "metadata": {
            "tags": []
          }
        }
      ]
    },
    {
      "metadata": {
        "id": "NGQfWut8U8QS",
        "colab_type": "text"
      },
      "cell_type": "markdown",
      "source": [
        "# Synthesize\n",
        "\n",
        "On the GPU, this should take about 4 minutes per 1 second of audio per a batch."
      ]
    },
    {
      "metadata": {
        "id": "3Eh71eovH4NZ",
        "colab_type": "code",
        "colab": {
          "autoexec": {
            "startup": false,
            "wait_interval": 0
          },
          "base_uri": "https://localhost:8080/",
          "height": 6055
        },
        "cellView": "both",
        "outputId": "7bbdbd92-9372-4a0b-b22d-307b70194a62",
        "executionInfo": {
          "status": "ok",
          "timestamp": 1529065738543,
          "user_tz": 240,
          "elapsed": 1201796,
          "user": {
            "displayName": "",
            "photoUrl": "",
            "userId": ""
          }
        }
      },
      "cell_type": "code",
      "source": [
        "#@title Synthesize Interpolations { vertical-output: true }\n",
        "print('Total Iterations to Complete: %d\\n' % 2000)\n",
        "\n",
        "encodings = np.array(z_list)\n",
        "save_paths = ['/content/' + name + '.wav' for name in name_list]\n",
        "fastgen.synthesize(encodings,\n",
        "                   save_paths=save_paths,\n",
        "                   checkpoint_path=ckpt_path,\n",
        "                   samples_per_save=int(SAMPLE_LENGTH / 10))"
      ],
      "execution_count": 18,
      "outputs": [
        {
          "output_type": "stream",
          "text": [
            "Total Iterations to Complete: 2000\n",
            "\n",
            "INFO:tensorflow:Restoring parameters from /content/wavenet-voice-ckpt/model.ckpt-200000\n",
            "INFO:tensorflow:Sample: 0\n",
            "INFO:tensorflow:Saving: /content/recon_GCG_FX3.wav\n",
            "INFO:tensorflow:Saving: /content/recon_00DB_Away.wav\n",
            "INFO:tensorflow:Saving: /content/interp_GCG_FX3_X_00DB_Away.wav\n",
            "INFO:tensorflow:Sample: 100\n",
            "INFO:tensorflow:Sample: 200\n",
            "INFO:tensorflow:Sample: 300\n",
            "INFO:tensorflow:Sample: 400\n",
            "INFO:tensorflow:Sample: 500\n",
            "INFO:tensorflow:Sample: 600\n",
            "INFO:tensorflow:Sample: 700\n",
            "INFO:tensorflow:Sample: 800\n",
            "INFO:tensorflow:Sample: 900\n",
            "INFO:tensorflow:Sample: 1000\n",
            "INFO:tensorflow:Sample: 1100\n",
            "INFO:tensorflow:Sample: 1200\n",
            "INFO:tensorflow:Sample: 1300\n",
            "INFO:tensorflow:Sample: 1400\n",
            "INFO:tensorflow:Sample: 1500\n",
            "INFO:tensorflow:Sample: 1600\n",
            "INFO:tensorflow:Sample: 1700\n",
            "INFO:tensorflow:Sample: 1800\n",
            "INFO:tensorflow:Sample: 1900\n",
            "INFO:tensorflow:Sample: 2000\n",
            "INFO:tensorflow:Sample: 2100\n",
            "INFO:tensorflow:Sample: 2200\n",
            "INFO:tensorflow:Sample: 2300\n",
            "INFO:tensorflow:Sample: 2400\n",
            "INFO:tensorflow:Sample: 2500\n",
            "INFO:tensorflow:Sample: 2600\n",
            "INFO:tensorflow:Sample: 2700\n",
            "INFO:tensorflow:Sample: 2800\n",
            "INFO:tensorflow:Sample: 2900\n",
            "INFO:tensorflow:Sample: 3000\n",
            "INFO:tensorflow:Sample: 3100\n",
            "INFO:tensorflow:Sample: 3200\n",
            "INFO:tensorflow:Saving: /content/recon_GCG_FX3.wav\n",
            "INFO:tensorflow:Saving: /content/recon_00DB_Away.wav\n",
            "INFO:tensorflow:Saving: /content/interp_GCG_FX3_X_00DB_Away.wav\n",
            "INFO:tensorflow:Sample: 3300\n",
            "INFO:tensorflow:Sample: 3400\n",
            "INFO:tensorflow:Sample: 3500\n",
            "INFO:tensorflow:Sample: 3600\n",
            "INFO:tensorflow:Sample: 3700\n",
            "INFO:tensorflow:Sample: 3800\n",
            "INFO:tensorflow:Sample: 3900\n",
            "INFO:tensorflow:Sample: 4000\n",
            "INFO:tensorflow:Sample: 4100\n",
            "INFO:tensorflow:Sample: 4200\n",
            "INFO:tensorflow:Sample: 4300\n",
            "INFO:tensorflow:Sample: 4400\n",
            "INFO:tensorflow:Sample: 4500\n",
            "INFO:tensorflow:Sample: 4600\n",
            "INFO:tensorflow:Sample: 4700\n",
            "INFO:tensorflow:Sample: 4800\n",
            "INFO:tensorflow:Sample: 4900\n",
            "INFO:tensorflow:Sample: 5000\n",
            "INFO:tensorflow:Sample: 5100\n",
            "INFO:tensorflow:Sample: 5200\n",
            "INFO:tensorflow:Sample: 5300\n",
            "INFO:tensorflow:Sample: 5400\n",
            "INFO:tensorflow:Sample: 5500\n",
            "INFO:tensorflow:Sample: 5600\n",
            "INFO:tensorflow:Sample: 5700\n",
            "INFO:tensorflow:Sample: 5800\n",
            "INFO:tensorflow:Sample: 5900\n",
            "INFO:tensorflow:Sample: 6000\n",
            "INFO:tensorflow:Sample: 6100\n",
            "INFO:tensorflow:Sample: 6200\n",
            "INFO:tensorflow:Sample: 6300\n",
            "INFO:tensorflow:Sample: 6400\n",
            "INFO:tensorflow:Saving: /content/recon_GCG_FX3.wav\n",
            "INFO:tensorflow:Saving: /content/recon_00DB_Away.wav\n",
            "INFO:tensorflow:Saving: /content/interp_GCG_FX3_X_00DB_Away.wav\n"
          ],
          "name": "stdout"
        },
        {
          "output_type": "stream",
          "text": [
            "INFO:tensorflow:Sample: 6500\n",
            "INFO:tensorflow:Sample: 6600\n",
            "INFO:tensorflow:Sample: 6700\n",
            "INFO:tensorflow:Sample: 6800\n",
            "INFO:tensorflow:Sample: 6900\n",
            "INFO:tensorflow:Sample: 7000\n",
            "INFO:tensorflow:Sample: 7100\n",
            "INFO:tensorflow:Sample: 7200\n",
            "INFO:tensorflow:Sample: 7300\n",
            "INFO:tensorflow:Sample: 7400\n",
            "INFO:tensorflow:Sample: 7500\n",
            "INFO:tensorflow:Sample: 7600\n",
            "INFO:tensorflow:Sample: 7700\n",
            "INFO:tensorflow:Sample: 7800\n",
            "INFO:tensorflow:Sample: 7900\n",
            "INFO:tensorflow:Sample: 8000\n",
            "INFO:tensorflow:Sample: 8100\n",
            "INFO:tensorflow:Sample: 8200\n",
            "INFO:tensorflow:Sample: 8300\n",
            "INFO:tensorflow:Sample: 8400\n",
            "INFO:tensorflow:Sample: 8500\n",
            "INFO:tensorflow:Sample: 8600\n",
            "INFO:tensorflow:Sample: 8700\n",
            "INFO:tensorflow:Sample: 8800\n",
            "INFO:tensorflow:Sample: 8900\n",
            "INFO:tensorflow:Sample: 9000\n",
            "INFO:tensorflow:Sample: 9100\n",
            "INFO:tensorflow:Sample: 9200\n",
            "INFO:tensorflow:Sample: 9300\n",
            "INFO:tensorflow:Sample: 9400\n",
            "INFO:tensorflow:Sample: 9500\n",
            "INFO:tensorflow:Sample: 9600\n",
            "INFO:tensorflow:Saving: /content/recon_GCG_FX3.wav\n",
            "INFO:tensorflow:Saving: /content/recon_00DB_Away.wav\n",
            "INFO:tensorflow:Saving: /content/interp_GCG_FX3_X_00DB_Away.wav\n",
            "INFO:tensorflow:Sample: 9700\n",
            "INFO:tensorflow:Sample: 9800\n",
            "INFO:tensorflow:Sample: 9900\n",
            "INFO:tensorflow:Sample: 10000\n",
            "INFO:tensorflow:Sample: 10100\n",
            "INFO:tensorflow:Sample: 10200\n",
            "INFO:tensorflow:Sample: 10300\n",
            "INFO:tensorflow:Sample: 10400\n",
            "INFO:tensorflow:Sample: 10500\n",
            "INFO:tensorflow:Sample: 10600\n",
            "INFO:tensorflow:Sample: 10700\n",
            "INFO:tensorflow:Sample: 10800\n",
            "INFO:tensorflow:Sample: 10900\n",
            "INFO:tensorflow:Sample: 11000\n",
            "INFO:tensorflow:Sample: 11100\n",
            "INFO:tensorflow:Sample: 11200\n",
            "INFO:tensorflow:Sample: 11300\n",
            "INFO:tensorflow:Sample: 11400\n",
            "INFO:tensorflow:Sample: 11500\n",
            "INFO:tensorflow:Sample: 11600\n",
            "INFO:tensorflow:Sample: 11700\n",
            "INFO:tensorflow:Sample: 11800\n",
            "INFO:tensorflow:Sample: 11900\n",
            "INFO:tensorflow:Sample: 12000\n",
            "INFO:tensorflow:Sample: 12100\n",
            "INFO:tensorflow:Sample: 12200\n",
            "INFO:tensorflow:Sample: 12300\n",
            "INFO:tensorflow:Sample: 12400\n",
            "INFO:tensorflow:Sample: 12500\n",
            "INFO:tensorflow:Sample: 12600\n",
            "INFO:tensorflow:Sample: 12700\n",
            "INFO:tensorflow:Sample: 12800\n",
            "INFO:tensorflow:Saving: /content/recon_GCG_FX3.wav\n",
            "INFO:tensorflow:Saving: /content/recon_00DB_Away.wav\n",
            "INFO:tensorflow:Saving: /content/interp_GCG_FX3_X_00DB_Away.wav\n",
            "INFO:tensorflow:Sample: 12900\n",
            "INFO:tensorflow:Sample: 13000\n",
            "INFO:tensorflow:Sample: 13100\n",
            "INFO:tensorflow:Sample: 13200\n",
            "INFO:tensorflow:Sample: 13300\n",
            "INFO:tensorflow:Sample: 13400\n",
            "INFO:tensorflow:Sample: 13500\n",
            "INFO:tensorflow:Sample: 13600\n",
            "INFO:tensorflow:Sample: 13700\n",
            "INFO:tensorflow:Sample: 13800\n"
          ],
          "name": "stdout"
        },
        {
          "output_type": "stream",
          "text": [
            "INFO:tensorflow:Sample: 13900\n",
            "INFO:tensorflow:Sample: 14000\n",
            "INFO:tensorflow:Sample: 14100\n",
            "INFO:tensorflow:Sample: 14200\n",
            "INFO:tensorflow:Sample: 14300\n",
            "INFO:tensorflow:Sample: 14400\n",
            "INFO:tensorflow:Sample: 14500\n",
            "INFO:tensorflow:Sample: 14600\n",
            "INFO:tensorflow:Sample: 14700\n",
            "INFO:tensorflow:Sample: 14800\n",
            "INFO:tensorflow:Sample: 14900\n",
            "INFO:tensorflow:Sample: 15000\n",
            "INFO:tensorflow:Sample: 15100\n",
            "INFO:tensorflow:Sample: 15200\n",
            "INFO:tensorflow:Sample: 15300\n",
            "INFO:tensorflow:Sample: 15400\n",
            "INFO:tensorflow:Sample: 15500\n",
            "INFO:tensorflow:Sample: 15600\n",
            "INFO:tensorflow:Sample: 15700\n",
            "INFO:tensorflow:Sample: 15800\n",
            "INFO:tensorflow:Sample: 15900\n",
            "INFO:tensorflow:Sample: 16000\n",
            "INFO:tensorflow:Saving: /content/recon_GCG_FX3.wav\n",
            "INFO:tensorflow:Saving: /content/recon_00DB_Away.wav\n",
            "INFO:tensorflow:Saving: /content/interp_GCG_FX3_X_00DB_Away.wav\n",
            "INFO:tensorflow:Sample: 16100\n",
            "INFO:tensorflow:Sample: 16200\n",
            "INFO:tensorflow:Sample: 16300\n",
            "INFO:tensorflow:Sample: 16400\n",
            "INFO:tensorflow:Sample: 16500\n",
            "INFO:tensorflow:Sample: 16600\n",
            "INFO:tensorflow:Sample: 16700\n",
            "INFO:tensorflow:Sample: 16800\n",
            "INFO:tensorflow:Sample: 16900\n",
            "INFO:tensorflow:Sample: 17000\n",
            "INFO:tensorflow:Sample: 17100\n",
            "INFO:tensorflow:Sample: 17200\n",
            "INFO:tensorflow:Sample: 17300\n",
            "INFO:tensorflow:Sample: 17400\n",
            "INFO:tensorflow:Sample: 17500\n",
            "INFO:tensorflow:Sample: 17600\n",
            "INFO:tensorflow:Sample: 17700\n",
            "INFO:tensorflow:Sample: 17800\n",
            "INFO:tensorflow:Sample: 17900\n",
            "INFO:tensorflow:Sample: 18000\n",
            "INFO:tensorflow:Sample: 18100\n",
            "INFO:tensorflow:Sample: 18200\n",
            "INFO:tensorflow:Sample: 18300\n",
            "INFO:tensorflow:Sample: 18400\n",
            "INFO:tensorflow:Sample: 18500\n",
            "INFO:tensorflow:Sample: 18600\n",
            "INFO:tensorflow:Sample: 18700\n",
            "INFO:tensorflow:Sample: 18800\n",
            "INFO:tensorflow:Sample: 18900\n",
            "INFO:tensorflow:Sample: 19000\n",
            "INFO:tensorflow:Sample: 19100\n",
            "INFO:tensorflow:Sample: 19200\n",
            "INFO:tensorflow:Saving: /content/recon_GCG_FX3.wav\n",
            "INFO:tensorflow:Saving: /content/recon_00DB_Away.wav\n",
            "INFO:tensorflow:Saving: /content/interp_GCG_FX3_X_00DB_Away.wav\n",
            "INFO:tensorflow:Sample: 19300\n",
            "INFO:tensorflow:Sample: 19400\n",
            "INFO:tensorflow:Sample: 19500\n",
            "INFO:tensorflow:Sample: 19600\n",
            "INFO:tensorflow:Sample: 19700\n",
            "INFO:tensorflow:Sample: 19800\n",
            "INFO:tensorflow:Sample: 19900\n",
            "INFO:tensorflow:Sample: 20000\n",
            "INFO:tensorflow:Sample: 20100\n",
            "INFO:tensorflow:Sample: 20200\n",
            "INFO:tensorflow:Sample: 20300\n",
            "INFO:tensorflow:Sample: 20400\n",
            "INFO:tensorflow:Sample: 20500\n",
            "INFO:tensorflow:Sample: 20600\n",
            "INFO:tensorflow:Sample: 20700\n",
            "INFO:tensorflow:Sample: 20800\n",
            "INFO:tensorflow:Sample: 20900\n",
            "INFO:tensorflow:Sample: 21000\n"
          ],
          "name": "stdout"
        },
        {
          "output_type": "stream",
          "text": [
            "INFO:tensorflow:Sample: 21100\n",
            "INFO:tensorflow:Sample: 21200\n",
            "INFO:tensorflow:Sample: 21300\n",
            "INFO:tensorflow:Sample: 21400\n",
            "INFO:tensorflow:Sample: 21500\n",
            "INFO:tensorflow:Sample: 21600\n",
            "INFO:tensorflow:Sample: 21700\n",
            "INFO:tensorflow:Sample: 21800\n",
            "INFO:tensorflow:Sample: 21900\n",
            "INFO:tensorflow:Sample: 22000\n",
            "INFO:tensorflow:Sample: 22100\n",
            "INFO:tensorflow:Sample: 22200\n",
            "INFO:tensorflow:Sample: 22300\n",
            "INFO:tensorflow:Sample: 22400\n",
            "INFO:tensorflow:Saving: /content/recon_GCG_FX3.wav\n",
            "INFO:tensorflow:Saving: /content/recon_00DB_Away.wav\n",
            "INFO:tensorflow:Saving: /content/interp_GCG_FX3_X_00DB_Away.wav\n",
            "INFO:tensorflow:Sample: 22500\n",
            "INFO:tensorflow:Sample: 22600\n",
            "INFO:tensorflow:Sample: 22700\n",
            "INFO:tensorflow:Sample: 22800\n",
            "INFO:tensorflow:Sample: 22900\n",
            "INFO:tensorflow:Sample: 23000\n",
            "INFO:tensorflow:Sample: 23100\n",
            "INFO:tensorflow:Sample: 23200\n",
            "INFO:tensorflow:Sample: 23300\n",
            "INFO:tensorflow:Sample: 23400\n",
            "INFO:tensorflow:Sample: 23500\n",
            "INFO:tensorflow:Sample: 23600\n",
            "INFO:tensorflow:Sample: 23700\n",
            "INFO:tensorflow:Sample: 23800\n",
            "INFO:tensorflow:Sample: 23900\n",
            "INFO:tensorflow:Sample: 24000\n",
            "INFO:tensorflow:Sample: 24100\n",
            "INFO:tensorflow:Sample: 24200\n",
            "INFO:tensorflow:Sample: 24300\n",
            "INFO:tensorflow:Sample: 24400\n",
            "INFO:tensorflow:Sample: 24500\n",
            "INFO:tensorflow:Sample: 24600\n",
            "INFO:tensorflow:Sample: 24700\n",
            "INFO:tensorflow:Sample: 24800\n",
            "INFO:tensorflow:Sample: 24900\n",
            "INFO:tensorflow:Sample: 25000\n",
            "INFO:tensorflow:Sample: 25100\n",
            "INFO:tensorflow:Sample: 25200\n",
            "INFO:tensorflow:Sample: 25300\n",
            "INFO:tensorflow:Sample: 25400\n",
            "INFO:tensorflow:Sample: 25500\n",
            "INFO:tensorflow:Sample: 25600\n",
            "INFO:tensorflow:Saving: /content/recon_GCG_FX3.wav\n",
            "INFO:tensorflow:Saving: /content/recon_00DB_Away.wav\n",
            "INFO:tensorflow:Saving: /content/interp_GCG_FX3_X_00DB_Away.wav\n",
            "INFO:tensorflow:Sample: 25700\n",
            "INFO:tensorflow:Sample: 25800\n",
            "INFO:tensorflow:Sample: 25900\n",
            "INFO:tensorflow:Sample: 26000\n",
            "INFO:tensorflow:Sample: 26100\n",
            "INFO:tensorflow:Sample: 26200\n",
            "INFO:tensorflow:Sample: 26300\n",
            "INFO:tensorflow:Sample: 26400\n",
            "INFO:tensorflow:Sample: 26500\n",
            "INFO:tensorflow:Sample: 26600\n",
            "INFO:tensorflow:Sample: 26700\n",
            "INFO:tensorflow:Sample: 26800\n",
            "INFO:tensorflow:Sample: 26900\n",
            "INFO:tensorflow:Sample: 27000\n",
            "INFO:tensorflow:Sample: 27100\n",
            "INFO:tensorflow:Sample: 27200\n",
            "INFO:tensorflow:Sample: 27300\n",
            "INFO:tensorflow:Sample: 27400\n",
            "INFO:tensorflow:Sample: 27500\n",
            "INFO:tensorflow:Sample: 27600\n",
            "INFO:tensorflow:Sample: 27700\n",
            "INFO:tensorflow:Sample: 27800\n",
            "INFO:tensorflow:Sample: 27900\n",
            "INFO:tensorflow:Sample: 28000\n",
            "INFO:tensorflow:Sample: 28100\n",
            "INFO:tensorflow:Sample: 28200\n"
          ],
          "name": "stdout"
        },
        {
          "output_type": "stream",
          "text": [
            "INFO:tensorflow:Sample: 28300\n",
            "INFO:tensorflow:Sample: 28400\n",
            "INFO:tensorflow:Sample: 28500\n",
            "INFO:tensorflow:Sample: 28600\n",
            "INFO:tensorflow:Sample: 28700\n",
            "INFO:tensorflow:Sample: 28800\n",
            "INFO:tensorflow:Saving: /content/recon_GCG_FX3.wav\n",
            "INFO:tensorflow:Saving: /content/recon_00DB_Away.wav\n",
            "INFO:tensorflow:Saving: /content/interp_GCG_FX3_X_00DB_Away.wav\n",
            "INFO:tensorflow:Sample: 28900\n",
            "INFO:tensorflow:Sample: 29000\n",
            "INFO:tensorflow:Sample: 29100\n",
            "INFO:tensorflow:Sample: 29200\n",
            "INFO:tensorflow:Sample: 29300\n",
            "INFO:tensorflow:Sample: 29400\n",
            "INFO:tensorflow:Sample: 29500\n",
            "INFO:tensorflow:Sample: 29600\n",
            "INFO:tensorflow:Sample: 29700\n",
            "INFO:tensorflow:Sample: 29800\n",
            "INFO:tensorflow:Sample: 29900\n",
            "INFO:tensorflow:Sample: 30000\n",
            "INFO:tensorflow:Sample: 30100\n",
            "INFO:tensorflow:Sample: 30200\n",
            "INFO:tensorflow:Sample: 30300\n",
            "INFO:tensorflow:Sample: 30400\n",
            "INFO:tensorflow:Sample: 30500\n",
            "INFO:tensorflow:Sample: 30600\n",
            "INFO:tensorflow:Sample: 30700\n",
            "INFO:tensorflow:Sample: 30800\n",
            "INFO:tensorflow:Sample: 30900\n",
            "INFO:tensorflow:Sample: 31000\n",
            "INFO:tensorflow:Sample: 31100\n",
            "INFO:tensorflow:Sample: 31200\n",
            "INFO:tensorflow:Sample: 31300\n",
            "INFO:tensorflow:Sample: 31400\n",
            "INFO:tensorflow:Sample: 31500\n",
            "INFO:tensorflow:Sample: 31600\n",
            "INFO:tensorflow:Sample: 31700\n",
            "INFO:tensorflow:Saving: /content/recon_GCG_FX3.wav\n",
            "INFO:tensorflow:Saving: /content/recon_00DB_Away.wav\n",
            "INFO:tensorflow:Saving: /content/interp_GCG_FX3_X_00DB_Away.wav\n"
          ],
          "name": "stdout"
        }
      ]
    },
    {
      "metadata": {
        "id": "Cm4Yz4VvPyRX",
        "colab_type": "code",
        "colab": {
          "autoexec": {
            "startup": false,
            "wait_interval": 0
          },
          "base_uri": "https://localhost:8080/",
          "height": 68
        },
        "cellView": "form",
        "outputId": "bc5288c6-d946-48f5-bd1a-a55de550e5e3",
        "executionInfo": {
          "status": "ok",
          "timestamp": 1529065834575,
          "user_tz": 240,
          "elapsed": 1378,
          "user": {
            "displayName": "",
            "photoUrl": "",
            "userId": ""
          }
        }
      },
      "cell_type": "code",
      "source": [
        "#@title Download Interpolations\n",
        "for fname in save_paths:\n",
        "  print('Downloading: %s' % fname.split('/')[-1])\n",
        "  download(fname)"
      ],
      "execution_count": 19,
      "outputs": [
        {
          "output_type": "stream",
          "text": [
            "Downloading: recon_GCG_FX3.wav\n",
            "Downloading: recon_00DB_Away.wav\n",
            "Downloading: interp_GCG_FX3_X_00DB_Away.wav\n"
          ],
          "name": "stdout"
        }
      ]
    },
    {
      "metadata": {
        "id": "ToDMo5PbC78w",
        "colab_type": "code",
        "colab": {
          "autoexec": {
            "startup": false,
            "wait_interval": 0
          },
          "base_uri": "https://localhost:8080/",
          "height": 494
        },
        "cellView": "form",
        "outputId": "56bcaf0e-6941-4bed-b5ad-f725a510946c",
        "executionInfo": {
          "status": "ok",
          "timestamp": 1529065840904,
          "user_tz": 240,
          "elapsed": 1927,
          "user": {
            "displayName": "",
            "photoUrl": "",
            "userId": ""
          }
        }
      },
      "cell_type": "code",
      "source": [
        "#@title Listen to the outputs\n",
        "\n",
        "print(\"Originals:\\n\")\n",
        "for fname in file_list:\n",
        "  synth_audio = utils.load_audio(fname,\n",
        "                                 sample_length=SAMPLE_LENGTH,\n",
        "                                 sr=SR)\n",
        "  print(get_name(fname))\n",
        "  play(synth_audio, sample_rate=SR)\n",
        "\n",
        "for i, fname in enumerate(save_paths):\n",
        "  if i == 0:\n",
        "    print(\"Reconstructions:\\n\")\n",
        "  if i == len(file_list):\n",
        "    print(\"Interpolations:\\n\")\n",
        "  synth_audio = utils.load_audio(fname,\n",
        "                                 sample_length=SAMPLE_LENGTH,\n",
        "                                 sr=SR)\n",
        "  print(get_name(fname))\n",
        "  play(synth_audio, sample_rate=SR)"
      ],
      "execution_count": 20,
      "outputs": [
        {
          "output_type": "stream",
          "text": [
            "Originals:\n",
            "\n",
            "GCG_FX3\n"
          ],
          "name": "stdout"
        },
        {
          "output_type": "display_data",
          "data": {
            "text/plain": [
              "<IPython.core.display.HTML object>"
            ],
            "text/html": [
              "<div id=\"id_12\"> </div>"
            ]
          },
          "metadata": {
            "tags": []
          }
        },
        {
          "output_type": "stream",
          "text": [
            "00DB_Away\n"
          ],
          "name": "stdout"
        },
        {
          "output_type": "display_data",
          "data": {
            "text/plain": [
              "<IPython.core.display.HTML object>"
            ],
            "text/html": [
              "<div id=\"id_13\"> </div>"
            ]
          },
          "metadata": {
            "tags": []
          }
        },
        {
          "output_type": "stream",
          "text": [
            "Reconstructions:\n",
            "\n",
            "recon_GCG_FX3\n"
          ],
          "name": "stdout"
        },
        {
          "output_type": "display_data",
          "data": {
            "text/plain": [
              "<IPython.core.display.HTML object>"
            ],
            "text/html": [
              "<div id=\"id_14\"> </div>"
            ]
          },
          "metadata": {
            "tags": []
          }
        },
        {
          "output_type": "stream",
          "text": [
            "recon_00DB_Away\n"
          ],
          "name": "stdout"
        },
        {
          "output_type": "display_data",
          "data": {
            "text/plain": [
              "<IPython.core.display.HTML object>"
            ],
            "text/html": [
              "<div id=\"id_15\"> </div>"
            ]
          },
          "metadata": {
            "tags": []
          }
        },
        {
          "output_type": "stream",
          "text": [
            "Interpolations:\n",
            "\n",
            "interp_GCG_FX3_X_00DB_Away\n"
          ],
          "name": "stdout"
        },
        {
          "output_type": "display_data",
          "data": {
            "text/plain": [
              "<IPython.core.display.HTML object>"
            ],
            "text/html": [
              "<div id=\"id_16\"> </div>"
            ]
          },
          "metadata": {
            "tags": []
          }
        }
      ]
    }
  ]
}